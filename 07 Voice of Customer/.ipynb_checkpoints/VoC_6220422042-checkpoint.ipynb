{
 "cells": [
  {
   "cell_type": "markdown",
   "metadata": {
    "id": "WrQbd86APp-2"
   },
   "source": [
    "# **Step 0 - install and import dependencies**"
   ]
  },
  {
   "cell_type": "code",
   "execution_count": 1,
   "metadata": {
    "colab": {
     "base_uri": "https://localhost:8080/"
    },
    "id": "bF2rn-l5Rp4U",
    "outputId": "29699e79-98ff-43ef-992b-4503ecc9843b"
   },
   "outputs": [
    {
     "name": "stdout",
     "output_type": "stream",
     "text": [
      "Requirement already satisfied: pythainlp in /usr/local/lib/python3.7/dist-packages (2.3.2)\n",
      "Requirement already satisfied: tinydb>=3.0 in /usr/local/lib/python3.7/dist-packages (from pythainlp) (4.5.2)\n",
      "Requirement already satisfied: requests>=2.22.0 in /usr/local/lib/python3.7/dist-packages (from pythainlp) (2.23.0)\n",
      "Requirement already satisfied: python-crfsuite>=0.9.6 in /usr/local/lib/python3.7/dist-packages (from pythainlp) (0.9.7)\n",
      "Requirement already satisfied: chardet<4,>=3.0.2 in /usr/local/lib/python3.7/dist-packages (from requests>=2.22.0->pythainlp) (3.0.4)\n",
      "Requirement already satisfied: certifi>=2017.4.17 in /usr/local/lib/python3.7/dist-packages (from requests>=2.22.0->pythainlp) (2021.10.8)\n",
      "Requirement already satisfied: idna<3,>=2.5 in /usr/local/lib/python3.7/dist-packages (from requests>=2.22.0->pythainlp) (2.10)\n",
      "Requirement already satisfied: urllib3!=1.25.0,!=1.25.1,<1.26,>=1.21.1 in /usr/local/lib/python3.7/dist-packages (from requests>=2.22.0->pythainlp) (1.24.3)\n",
      "Requirement already satisfied: typing-extensions<4.0.0,>=3.10.0 in /usr/local/lib/python3.7/dist-packages (from tinydb>=3.0->pythainlp) (3.10.0.2)\n",
      "Requirement already satisfied: tensorflow_text in /usr/local/lib/python3.7/dist-packages (2.7.0)\n",
      "Requirement already satisfied: tensorflow-hub>=0.8.0 in /usr/local/lib/python3.7/dist-packages (from tensorflow_text) (0.12.0)\n",
      "Requirement already satisfied: tensorflow<2.8,>=2.7.0 in /usr/local/lib/python3.7/dist-packages (from tensorflow_text) (2.7.0)\n",
      "Requirement already satisfied: wheel<1.0,>=0.32.0 in /usr/local/lib/python3.7/dist-packages (from tensorflow<2.8,>=2.7.0->tensorflow_text) (0.37.0)\n",
      "Requirement already satisfied: tensorboard~=2.6 in /usr/local/lib/python3.7/dist-packages (from tensorflow<2.8,>=2.7.0->tensorflow_text) (2.7.0)\n",
      "Requirement already satisfied: grpcio<2.0,>=1.24.3 in /usr/local/lib/python3.7/dist-packages (from tensorflow<2.8,>=2.7.0->tensorflow_text) (1.41.1)\n",
      "Requirement already satisfied: h5py>=2.9.0 in /usr/local/lib/python3.7/dist-packages (from tensorflow<2.8,>=2.7.0->tensorflow_text) (3.1.0)\n",
      "Requirement already satisfied: tensorflow-estimator<2.8,~=2.7.0rc0 in /usr/local/lib/python3.7/dist-packages (from tensorflow<2.8,>=2.7.0->tensorflow_text) (2.7.0)\n",
      "Requirement already satisfied: typing-extensions>=3.6.6 in /usr/local/lib/python3.7/dist-packages (from tensorflow<2.8,>=2.7.0->tensorflow_text) (3.10.0.2)\n",
      "Requirement already satisfied: libclang>=9.0.1 in /usr/local/lib/python3.7/dist-packages (from tensorflow<2.8,>=2.7.0->tensorflow_text) (12.0.0)\n",
      "Requirement already satisfied: keras<2.8,>=2.7.0rc0 in /usr/local/lib/python3.7/dist-packages (from tensorflow<2.8,>=2.7.0->tensorflow_text) (2.7.0)\n",
      "Requirement already satisfied: numpy>=1.14.5 in /usr/local/lib/python3.7/dist-packages (from tensorflow<2.8,>=2.7.0->tensorflow_text) (1.19.5)\n",
      "Requirement already satisfied: termcolor>=1.1.0 in /usr/local/lib/python3.7/dist-packages (from tensorflow<2.8,>=2.7.0->tensorflow_text) (1.1.0)\n",
      "Requirement already satisfied: google-pasta>=0.1.1 in /usr/local/lib/python3.7/dist-packages (from tensorflow<2.8,>=2.7.0->tensorflow_text) (0.2.0)\n",
      "Requirement already satisfied: wrapt>=1.11.0 in /usr/local/lib/python3.7/dist-packages (from tensorflow<2.8,>=2.7.0->tensorflow_text) (1.13.3)\n",
      "Requirement already satisfied: six>=1.12.0 in /usr/local/lib/python3.7/dist-packages (from tensorflow<2.8,>=2.7.0->tensorflow_text) (1.15.0)\n",
      "Requirement already satisfied: absl-py>=0.4.0 in /usr/local/lib/python3.7/dist-packages (from tensorflow<2.8,>=2.7.0->tensorflow_text) (0.12.0)\n",
      "Requirement already satisfied: gast<0.5.0,>=0.2.1 in /usr/local/lib/python3.7/dist-packages (from tensorflow<2.8,>=2.7.0->tensorflow_text) (0.4.0)\n",
      "Requirement already satisfied: opt-einsum>=2.3.2 in /usr/local/lib/python3.7/dist-packages (from tensorflow<2.8,>=2.7.0->tensorflow_text) (3.3.0)\n",
      "Requirement already satisfied: tensorflow-io-gcs-filesystem>=0.21.0 in /usr/local/lib/python3.7/dist-packages (from tensorflow<2.8,>=2.7.0->tensorflow_text) (0.21.0)\n",
      "Requirement already satisfied: flatbuffers<3.0,>=1.12 in /usr/local/lib/python3.7/dist-packages (from tensorflow<2.8,>=2.7.0->tensorflow_text) (2.0)\n",
      "Requirement already satisfied: protobuf>=3.9.2 in /usr/local/lib/python3.7/dist-packages (from tensorflow<2.8,>=2.7.0->tensorflow_text) (3.17.3)\n",
      "Requirement already satisfied: astunparse>=1.6.0 in /usr/local/lib/python3.7/dist-packages (from tensorflow<2.8,>=2.7.0->tensorflow_text) (1.6.3)\n",
      "Requirement already satisfied: keras-preprocessing>=1.1.1 in /usr/local/lib/python3.7/dist-packages (from tensorflow<2.8,>=2.7.0->tensorflow_text) (1.1.2)\n",
      "Requirement already satisfied: cached-property in /usr/local/lib/python3.7/dist-packages (from h5py>=2.9.0->tensorflow<2.8,>=2.7.0->tensorflow_text) (1.5.2)\n",
      "Requirement already satisfied: werkzeug>=0.11.15 in /usr/local/lib/python3.7/dist-packages (from tensorboard~=2.6->tensorflow<2.8,>=2.7.0->tensorflow_text) (1.0.1)\n",
      "Requirement already satisfied: tensorboard-plugin-wit>=1.6.0 in /usr/local/lib/python3.7/dist-packages (from tensorboard~=2.6->tensorflow<2.8,>=2.7.0->tensorflow_text) (1.8.0)\n",
      "Requirement already satisfied: setuptools>=41.0.0 in /usr/local/lib/python3.7/dist-packages (from tensorboard~=2.6->tensorflow<2.8,>=2.7.0->tensorflow_text) (57.4.0)\n",
      "Requirement already satisfied: google-auth<3,>=1.6.3 in /usr/local/lib/python3.7/dist-packages (from tensorboard~=2.6->tensorflow<2.8,>=2.7.0->tensorflow_text) (1.35.0)\n",
      "Requirement already satisfied: tensorboard-data-server<0.7.0,>=0.6.0 in /usr/local/lib/python3.7/dist-packages (from tensorboard~=2.6->tensorflow<2.8,>=2.7.0->tensorflow_text) (0.6.1)\n",
      "Requirement already satisfied: google-auth-oauthlib<0.5,>=0.4.1 in /usr/local/lib/python3.7/dist-packages (from tensorboard~=2.6->tensorflow<2.8,>=2.7.0->tensorflow_text) (0.4.6)\n",
      "Requirement already satisfied: requests<3,>=2.21.0 in /usr/local/lib/python3.7/dist-packages (from tensorboard~=2.6->tensorflow<2.8,>=2.7.0->tensorflow_text) (2.23.0)\n",
      "Requirement already satisfied: markdown>=2.6.8 in /usr/local/lib/python3.7/dist-packages (from tensorboard~=2.6->tensorflow<2.8,>=2.7.0->tensorflow_text) (3.3.4)\n",
      "Requirement already satisfied: rsa<5,>=3.1.4 in /usr/local/lib/python3.7/dist-packages (from google-auth<3,>=1.6.3->tensorboard~=2.6->tensorflow<2.8,>=2.7.0->tensorflow_text) (4.7.2)\n",
      "Requirement already satisfied: pyasn1-modules>=0.2.1 in /usr/local/lib/python3.7/dist-packages (from google-auth<3,>=1.6.3->tensorboard~=2.6->tensorflow<2.8,>=2.7.0->tensorflow_text) (0.2.8)\n",
      "Requirement already satisfied: cachetools<5.0,>=2.0.0 in /usr/local/lib/python3.7/dist-packages (from google-auth<3,>=1.6.3->tensorboard~=2.6->tensorflow<2.8,>=2.7.0->tensorflow_text) (4.2.4)\n",
      "Requirement already satisfied: requests-oauthlib>=0.7.0 in /usr/local/lib/python3.7/dist-packages (from google-auth-oauthlib<0.5,>=0.4.1->tensorboard~=2.6->tensorflow<2.8,>=2.7.0->tensorflow_text) (1.3.0)\n",
      "Requirement already satisfied: importlib-metadata in /usr/local/lib/python3.7/dist-packages (from markdown>=2.6.8->tensorboard~=2.6->tensorflow<2.8,>=2.7.0->tensorflow_text) (4.8.2)\n",
      "Requirement already satisfied: pyasn1<0.5.0,>=0.4.6 in /usr/local/lib/python3.7/dist-packages (from pyasn1-modules>=0.2.1->google-auth<3,>=1.6.3->tensorboard~=2.6->tensorflow<2.8,>=2.7.0->tensorflow_text) (0.4.8)\n",
      "Requirement already satisfied: certifi>=2017.4.17 in /usr/local/lib/python3.7/dist-packages (from requests<3,>=2.21.0->tensorboard~=2.6->tensorflow<2.8,>=2.7.0->tensorflow_text) (2021.10.8)\n",
      "Requirement already satisfied: urllib3!=1.25.0,!=1.25.1,<1.26,>=1.21.1 in /usr/local/lib/python3.7/dist-packages (from requests<3,>=2.21.0->tensorboard~=2.6->tensorflow<2.8,>=2.7.0->tensorflow_text) (1.24.3)\n",
      "Requirement already satisfied: idna<3,>=2.5 in /usr/local/lib/python3.7/dist-packages (from requests<3,>=2.21.0->tensorboard~=2.6->tensorflow<2.8,>=2.7.0->tensorflow_text) (2.10)\n",
      "Requirement already satisfied: chardet<4,>=3.0.2 in /usr/local/lib/python3.7/dist-packages (from requests<3,>=2.21.0->tensorboard~=2.6->tensorflow<2.8,>=2.7.0->tensorflow_text) (3.0.4)\n",
      "Requirement already satisfied: oauthlib>=3.0.0 in /usr/local/lib/python3.7/dist-packages (from requests-oauthlib>=0.7.0->google-auth-oauthlib<0.5,>=0.4.1->tensorboard~=2.6->tensorflow<2.8,>=2.7.0->tensorflow_text) (3.1.1)\n",
      "Requirement already satisfied: zipp>=0.5 in /usr/local/lib/python3.7/dist-packages (from importlib-metadata->markdown>=2.6.8->tensorboard~=2.6->tensorflow<2.8,>=2.7.0->tensorflow_text) (3.6.0)\n",
      "Requirement already satisfied: umap-learn in /usr/local/lib/python3.7/dist-packages (0.5.2)\n",
      "Requirement already satisfied: pynndescent>=0.5 in /usr/local/lib/python3.7/dist-packages (from umap-learn) (0.5.5)\n",
      "Requirement already satisfied: numpy>=1.17 in /usr/local/lib/python3.7/dist-packages (from umap-learn) (1.19.5)\n",
      "Requirement already satisfied: numba>=0.49 in /usr/local/lib/python3.7/dist-packages (from umap-learn) (0.51.2)\n",
      "Requirement already satisfied: scipy>=1.0 in /usr/local/lib/python3.7/dist-packages (from umap-learn) (1.4.1)\n",
      "Requirement already satisfied: tqdm in /usr/local/lib/python3.7/dist-packages (from umap-learn) (4.62.3)\n",
      "Requirement already satisfied: scikit-learn>=0.22 in /usr/local/lib/python3.7/dist-packages (from umap-learn) (0.22.2.post1)\n",
      "Requirement already satisfied: setuptools in /usr/local/lib/python3.7/dist-packages (from numba>=0.49->umap-learn) (57.4.0)\n",
      "Requirement already satisfied: llvmlite<0.35,>=0.34.0.dev0 in /usr/local/lib/python3.7/dist-packages (from numba>=0.49->umap-learn) (0.34.0)\n",
      "Requirement already satisfied: joblib>=0.11 in /usr/local/lib/python3.7/dist-packages (from pynndescent>=0.5->umap-learn) (1.1.0)\n"
     ]
    }
   ],
   "source": [
    "!pip install pythainlp\n",
    "!pip install tensorflow_text\n",
    "!pip install umap-learn"
   ]
  },
  {
   "cell_type": "code",
   "execution_count": 55,
   "metadata": {
    "id": "7GvuznzISB-h"
   },
   "outputs": [],
   "source": [
    "import numpy as np\n",
    "import pandas as pd\n",
    "import re\n",
    "\n",
    "import tensorflow as tf\n",
    "import tensorflow_hub as hub\n",
    "import tensorflow_text\n",
    "import umap\n",
    "\n",
    "from sklearn.cluster import KMeans\n",
    "import matplotlib.pyplot as plt\n",
    "\n",
    "from sklearn.cluster import AgglomerativeClustering\n",
    "from sklearn.neighbors import kneighbors_graph\n",
    "\n",
    "import pythainlp\n",
    "from pythainlp.corpus.common import thai_words\n",
    "from pythainlp.util import Trie\n",
    "import collections\n"
   ]
  },
  {
   "cell_type": "code",
   "execution_count": 56,
   "metadata": {
    "id": "fUq1dSYcS5yM"
   },
   "outputs": [],
   "source": [
    "module_url = 'https://tfhub.dev/google/universal-sentence-encoder-multilingual/3' #'https://tfhub.dev/google/universal-sentence-encoder-multilingual/3' for a large model\n",
    "\n",
    "model = hub.load(module_url)"
   ]
  },
  {
   "cell_type": "code",
   "execution_count": 57,
   "metadata": {
    "colab": {
     "base_uri": "https://localhost:8080/"
    },
    "id": "fhlr59B2Hqnr",
    "outputId": "eb4fdd1c-397f-40ec-e9f0-09212680717a"
   },
   "outputs": [
    {
     "name": "stderr",
     "output_type": "stream",
     "text": [
      "--2021-11-14 11:23:28--  https://docs.google.com/uc?export=download&id=1L5EEsunpAoHEnRNa8guN-KgjI8V9heBR\n",
      "Resolving docs.google.com (docs.google.com)... 74.125.195.100, 74.125.195.139, 74.125.195.138, ...\n",
      "Connecting to docs.google.com (docs.google.com)|74.125.195.100|:443... connected.\n",
      "HTTP request sent, awaiting response... 302 Moved Temporarily\n",
      "Location: https://doc-0k-bk-docs.googleusercontent.com/docs/securesc/ha0ro937gcuc7l7deffksulhg5h7mbp1/rkjmqduqq4a5qav7n60sj332ssu95aov/1636888950000/09104690438019172937/*/1L5EEsunpAoHEnRNa8guN-KgjI8V9heBR?e=download [following]\n",
      "Warning: wildcards not supported in HTTP.\n",
      "--2021-11-14 11:23:29--  https://doc-0k-bk-docs.googleusercontent.com/docs/securesc/ha0ro937gcuc7l7deffksulhg5h7mbp1/rkjmqduqq4a5qav7n60sj332ssu95aov/1636888950000/09104690438019172937/*/1L5EEsunpAoHEnRNa8guN-KgjI8V9heBR?e=download\n",
      "Resolving doc-0k-bk-docs.googleusercontent.com (doc-0k-bk-docs.googleusercontent.com)... 74.125.142.132, 2607:f8b0:400e:c08::84\n",
      "Connecting to doc-0k-bk-docs.googleusercontent.com (doc-0k-bk-docs.googleusercontent.com)|74.125.142.132|:443... connected.\n",
      "HTTP request sent, awaiting response... 200 OK\n",
      "Length: 746455 (729K) [text/csv]\n",
      "Saving to: ‘Wongnai_Reviews_Small.csv’\n",
      "\n",
      "     0K .......... .......... .......... .......... ..........  6% 35.1M 0s\n",
      "    50K .......... .......... .......... .......... .......... 13% 41.6M 0s\n",
      "   100K .......... .......... .......... .......... .......... 20% 36.8M 0s\n",
      "   150K .......... .......... .......... .......... .......... 27% 37.5M 0s\n",
      "   200K .......... .......... .......... .......... .......... 34% 35.6M 0s\n",
      "   250K .......... .......... .......... .......... .......... 41% 30.4M 0s\n",
      "   300K .......... .......... .......... .......... .......... 48% 38.2M 0s\n",
      "   350K .......... .......... .......... .......... .......... 54% 39.8M 0s\n",
      "   400K .......... .......... .......... .......... .......... 61% 44.7M 0s\n",
      "   450K .......... .......... .......... .......... .......... 68% 44.1M 0s\n",
      "   500K .......... .......... .......... .......... .......... 75% 42.2M 0s\n",
      "   550K .......... .......... .......... .......... .......... 82% 44.7M 0s\n",
      "   600K .......... .......... .......... .......... .......... 89% 41.8M 0s\n",
      "   650K .......... .......... .......... .......... .......... 96% 47.2M 0s\n",
      "   700K .......... .......... ........                        100% 43.2M=0.02s\n",
      "\n",
      "2021-11-14 11:23:29 (39.6 MB/s) - ‘Wongnai_Reviews_Small.csv’ saved [746455/746455]\n",
      "\n"
     ]
    }
   ],
   "source": [
    "%%bash\n",
    "wget --no-check-certificate 'https://docs.google.com/uc?export=download&id=1L5EEsunpAoHEnRNa8guN-KgjI8V9heBR' -O Wongnai_Reviews_Small.csv"
   ]
  },
  {
   "cell_type": "code",
   "execution_count": 1,
   "metadata": {
    "id": "dZiaG3R4b6kN"
   },
   "outputs": [],
   "source": [
    "import pandas as pd\n",
    "df = pd.read_csv(\"Wongnai Reviews - Small.csv\")"
   ]
  },
  {
   "cell_type": "code",
   "execution_count": 2,
   "metadata": {
    "colab": {
     "base_uri": "https://localhost:8080/",
     "height": 202
    },
    "id": "gonSv6i4cVs1",
    "outputId": "4b487d5d-bbd6-4b40-93d0-4b44d1b0ec9f"
   },
   "outputs": [
    {
     "data": {
      "text/html": [
       "<div>\n",
       "<style scoped>\n",
       "    .dataframe tbody tr th:only-of-type {\n",
       "        vertical-align: middle;\n",
       "    }\n",
       "\n",
       "    .dataframe tbody tr th {\n",
       "        vertical-align: top;\n",
       "    }\n",
       "\n",
       "    .dataframe thead th {\n",
       "        text-align: right;\n",
       "    }\n",
       "</style>\n",
       "<table border=\"1\" class=\"dataframe\">\n",
       "  <thead>\n",
       "    <tr style=\"text-align: right;\">\n",
       "      <th></th>\n",
       "      <th>Review ID</th>\n",
       "      <th>Review</th>\n",
       "    </tr>\n",
       "  </thead>\n",
       "  <tbody>\n",
       "    <tr>\n",
       "      <th>0</th>\n",
       "      <td>1</td>\n",
       "      <td>เป็นคนที่ชอบทาน Macchiato เป็นประจำ มีวันนึงเด...</td>\n",
       "    </tr>\n",
       "    <tr>\n",
       "      <th>1</th>\n",
       "      <td>2</td>\n",
       "      <td>Art of Coffee Kasetsart เป็นร้านกาแฟรสชาติเยี่...</td>\n",
       "    </tr>\n",
       "    <tr>\n",
       "      <th>2</th>\n",
       "      <td>3</td>\n",
       "      <td>กวงทะเลเผา อาหารทะเลเค้าสดจริงๆเนื้อปูหวานไม่ค...</td>\n",
       "    </tr>\n",
       "    <tr>\n",
       "      <th>3</th>\n",
       "      <td>4</td>\n",
       "      <td>วันนี้มีโอกาสตื่นเช้าครับเลยถึงโอกาสออกมาหาอะไ...</td>\n",
       "    </tr>\n",
       "    <tr>\n",
       "      <th>4</th>\n",
       "      <td>5</td>\n",
       "      <td>ชอบมาทานร้านนี้ถ้าอยากกินอาหารเวียดนามใกล้บ้าน...</td>\n",
       "    </tr>\n",
       "  </tbody>\n",
       "</table>\n",
       "</div>"
      ],
      "text/plain": [
       "   Review ID                                             Review\n",
       "0          1  เป็นคนที่ชอบทาน Macchiato เป็นประจำ มีวันนึงเด...\n",
       "1          2  Art of Coffee Kasetsart เป็นร้านกาแฟรสชาติเยี่...\n",
       "2          3  กวงทะเลเผา อาหารทะเลเค้าสดจริงๆเนื้อปูหวานไม่ค...\n",
       "3          4  วันนี้มีโอกาสตื่นเช้าครับเลยถึงโอกาสออกมาหาอะไ...\n",
       "4          5  ชอบมาทานร้านนี้ถ้าอยากกินอาหารเวียดนามใกล้บ้าน..."
      ]
     },
     "execution_count": 2,
     "metadata": {},
     "output_type": "execute_result"
    }
   ],
   "source": [
    "df.head()"
   ]
  },
  {
   "cell_type": "markdown",
   "metadata": {
    "id": "Oowl7VYeP3gK"
   },
   "source": [
    "# **Step 1 - document embedding and dimension reduction**"
   ]
  },
  {
   "cell_type": "code",
   "execution_count": 109,
   "metadata": {
    "colab": {
     "base_uri": "https://localhost:8080/",
     "height": 212
    },
    "id": "e29WZmM4cCOS",
    "outputId": "2d24f7d5-d18f-4952-dc66-f8c56f8f76ed"
   },
   "outputs": [
    {
     "ename": "TypeError",
     "evalue": "ignored",
     "output_type": "error",
     "traceback": [
      "\u001b[0;31m---------------------------------------------------------------------------\u001b[0m",
      "\u001b[0;31mTypeError\u001b[0m                                 Traceback (most recent call last)",
      "\u001b[0;32m<ipython-input-109-9f4474277abd>\u001b[0m in \u001b[0;36m<module>\u001b[0;34m()\u001b[0m\n\u001b[1;32m      1\u001b[0m \u001b[0;31m#embed sentences using Universal Sentence Encoder (USE)\u001b[0m\u001b[0;34m\u001b[0m\u001b[0;34m\u001b[0m\u001b[0;34m\u001b[0m\u001b[0m\n\u001b[1;32m      2\u001b[0m \u001b[0;34m\u001b[0m\u001b[0m\n\u001b[0;32m----> 3\u001b[0;31m \u001b[0membed_comments_array\u001b[0m \u001b[0;34m=\u001b[0m \u001b[0mmodel\u001b[0m\u001b[0;34m(\u001b[0m\u001b[0mdf\u001b[0m\u001b[0;34m[\u001b[0m\u001b[0;34m'Review'\u001b[0m\u001b[0;34m]\u001b[0m\u001b[0;34m.\u001b[0m\u001b[0mvalues\u001b[0m\u001b[0;34m)\u001b[0m\u001b[0;34m.\u001b[0m\u001b[0mnumpy\u001b[0m\u001b[0;34m(\u001b[0m\u001b[0;34m)\u001b[0m\u001b[0;34m\u001b[0m\u001b[0;34m\u001b[0m\u001b[0m\n\u001b[0m\u001b[1;32m      4\u001b[0m \u001b[0membed_comments_array\u001b[0m\u001b[0;34m\u001b[0m\u001b[0;34m\u001b[0m\u001b[0m\n",
      "\u001b[0;31mTypeError\u001b[0m: 'AgglomerativeClustering' object is not callable"
     ]
    }
   ],
   "source": [
    "#embed sentences using Universal Sentence Encoder (USE)\n",
    "\n",
    "embed_comments_array = model(df['Review'].values).numpy()\n",
    "embed_comments_array"
   ]
  },
  {
   "cell_type": "code",
   "execution_count": 110,
   "metadata": {
    "id": "5gps1fE8ctMQ"
   },
   "outputs": [],
   "source": [
    "#reduce array dimensions using umap (you can chagne n_components)\n",
    "\n",
    "reducer = umap.UMAP(random_state=42,n_components=25)\n",
    "umap_embed_comments_array = reducer.fit_transform(embed_comments_array)"
   ]
  },
  {
   "cell_type": "markdown",
   "metadata": {
    "id": "s5qq2RQlQJbV"
   },
   "source": [
    "# **Step 2 - document clustering using KMeans**"
   ]
  },
  {
   "cell_type": "code",
   "execution_count": 111,
   "metadata": {
    "colab": {
     "base_uri": "https://localhost:8080/",
     "height": 312
    },
    "id": "2IkMb1UIF3k5",
    "outputId": "f5a570d7-6118-48f4-a6d8-7a9fd31b9ba2"
   },
   "outputs": [
    {
     "data": {
      "text/plain": [
       "Text(0, 0.5, 'WCSS')"
      ]
     },
     "execution_count": 111,
     "metadata": {},
     "output_type": "execute_result"
    },
    {
     "data": {
      "image/png": "[encoded data removed]",
      "text/plain": [
       "<Figure size 432x288 with 1 Axes>"
      ]
     },
     "metadata": {
      "needs_background": "light"
     },
     "output_type": "display_data"
    }
   ],
   "source": [
    "#run kmeans with various number of k. evaluate no. of k based on the elbow plot\n",
    "\n",
    "wcss=[]\n",
    "max_k = 10\n",
    "for i in range(1, max_k):\n",
    "  kmeans = KMeans(i)\n",
    "  kmeans.fit(umap_embed_comments_array)\n",
    "  wcss_iter = kmeans.inertia_\n",
    "  wcss.append(wcss_iter)\n",
    "\n",
    "number_clusters = range(1, max_k)\n",
    "plt.plot(number_clusters,wcss)\n",
    "plt.title('The Elbow title')\n",
    "plt.xlabel('Number of clusters')\n",
    "plt.ylabel('WCSS')"
   ]
  },
  {
   "cell_type": "code",
   "execution_count": 158,
   "metadata": {
    "id": "1o0czkMVdSJ5"
   },
   "outputs": [],
   "source": [
    "#run kmeans with no. of clusters you see fit the most\n",
    "\n",
    "k = 7\n",
    "\n",
    "kmeans = KMeans(n_clusters = k)\n",
    "kmeans.fit(umap_embed_comments_array)\n",
    "\n",
    "df['KMeans ID'] = kmeans.labels_"
   ]
  },
  {
   "cell_type": "code",
   "execution_count": 159,
   "metadata": {
    "id": "bf3R2QBr3oOq"
   },
   "outputs": [],
   "source": [
    "#merge all reviews of each cluster into one big sentence \n",
    "\n",
    "df_kmeans = pd.DataFrame(columns=[\"KMeans ID\", \"texts\"])\n",
    "\n",
    "\n",
    "for i in range(0, k):\n",
    "  row = []\n",
    "  row.append(i)\n",
    "  row.append(df['Review'][df['KMeans ID'] == i].to_string())\n",
    "  df_kmeans.loc[len(df_kmeans)] = row"
   ]
  },
  {
   "cell_type": "code",
   "execution_count": 160,
   "metadata": {
    "colab": {
     "base_uri": "https://localhost:8080/",
     "height": 264
    },
    "id": "UFo_nqQEL08U",
    "outputId": "082636db-2641-4f4e-a3de-a5f7091efa29"
   },
   "outputs": [
    {
     "data": {
      "text/html": [
       "<div>\n",
       "<style scoped>\n",
       "    .dataframe tbody tr th:only-of-type {\n",
       "        vertical-align: middle;\n",
       "    }\n",
       "\n",
       "    .dataframe tbody tr th {\n",
       "        vertical-align: top;\n",
       "    }\n",
       "\n",
       "    .dataframe thead th {\n",
       "        text-align: right;\n",
       "    }\n",
       "</style>\n",
       "<table border=\"1\" class=\"dataframe\">\n",
       "  <thead>\n",
       "    <tr style=\"text-align: right;\">\n",
       "      <th></th>\n",
       "      <th>KMeans ID</th>\n",
       "      <th>texts</th>\n",
       "    </tr>\n",
       "  </thead>\n",
       "  <tbody>\n",
       "    <tr>\n",
       "      <th>0</th>\n",
       "      <td>0</td>\n",
       "      <td>2      กวงทะเลเผา อาหารทะเลเค้าสดจริงๆเนื้อปูห...</td>\n",
       "    </tr>\n",
       "    <tr>\n",
       "      <th>1</th>\n",
       "      <td>1</td>\n",
       "      <td>0      เป็นคนที่ชอบทาน Macchiato เป็นประจำ มีว...</td>\n",
       "    </tr>\n",
       "    <tr>\n",
       "      <th>2</th>\n",
       "      <td>2</td>\n",
       "      <td>18     เคยทานทองม้วนสดมาหลายร้านแล้ว \\nถ้าจะทา...</td>\n",
       "    </tr>\n",
       "    <tr>\n",
       "      <th>3</th>\n",
       "      <td>3</td>\n",
       "      <td>13     เคยเป็นไหมกันไหมคะ หลังอาหารมื้อใหญ่ ต่...</td>\n",
       "    </tr>\n",
       "    <tr>\n",
       "      <th>4</th>\n",
       "      <td>4</td>\n",
       "      <td>4      ชอบมาทานร้านนี้ถ้าอยากกินอาหารเวียดนามใ...</td>\n",
       "    </tr>\n",
       "    <tr>\n",
       "      <th>5</th>\n",
       "      <td>5</td>\n",
       "      <td>11     โลตัสพัฒนาการมีร้านชีทเค้กน่าหม่ำอยู่ร้...</td>\n",
       "    </tr>\n",
       "    <tr>\n",
       "      <th>6</th>\n",
       "      <td>6</td>\n",
       "      <td>3      วันนี้มีโอกาสตื่นเช้าครับเลยถึงโอกาสออก...</td>\n",
       "    </tr>\n",
       "  </tbody>\n",
       "</table>\n",
       "</div>"
      ],
      "text/plain": [
       "  KMeans ID                                              texts\n",
       "0         0  2      กวงทะเลเผา อาหารทะเลเค้าสดจริงๆเนื้อปูห...\n",
       "1         1  0      เป็นคนที่ชอบทาน Macchiato เป็นประจำ มีว...\n",
       "2         2  18     เคยทานทองม้วนสดมาหลายร้านแล้ว \\nถ้าจะทา...\n",
       "3         3  13     เคยเป็นไหมกันไหมคะ หลังอาหารมื้อใหญ่ ต่...\n",
       "4         4  4      ชอบมาทานร้านนี้ถ้าอยากกินอาหารเวียดนามใ...\n",
       "5         5  11     โลตัสพัฒนาการมีร้านชีทเค้กน่าหม่ำอยู่ร้...\n",
       "6         6  3      วันนี้มีโอกาสตื่นเช้าครับเลยถึงโอกาสออก..."
      ]
     },
     "execution_count": 160,
     "metadata": {},
     "output_type": "execute_result"
    }
   ],
   "source": [
    "df_kmeans"
   ]
  },
  {
   "cell_type": "code",
   "execution_count": 161,
   "metadata": {
    "id": "R8ymEA_2EhGi"
   },
   "outputs": [],
   "source": [
    "#create regex compiler for removal of a character you don't want\n",
    "\n",
    "special_characters = \"/[!@#$%^&*']/g\"\n",
    "\n",
    "specialchar_pattern = re.compile(special_characters)\n",
    "\n",
    "#create regex compiler for removal of any emoji\n",
    "\n",
    "emoji_pattern = re.compile(\"[\"\n",
    "        u\"\\U0001F600-\\U0001F64F\"  # emoticons\n",
    "        u\"\\U0001F300-\\U0001F5FF\"  # symbols & pictographs\n",
    "        u\"\\U0001F680-\\U0001F6FF\"  # transport & map symbols\n",
    "        u\"\\U0001F1E0-\\U0001F1FF\"  # flags (iOS)\n",
    "                           \"]+\", flags=re.UNICODE)\n",
    "#create regex compiler for removal of digit\n",
    "\n",
    "number_pattern = re.compile(\"[0-9]\")\n",
    "#create regex compiler for removal of white space\n",
    "\n",
    "space_pattern = re.compile(\"\\s+\")\n",
    "#create regex compiler for removal of .\n",
    "\n",
    "dot_pattern = re.compile(r\"\\.+\")\n",
    "#create regex compiler for removal of \\\n",
    "\n",
    "backslash_pattern = re.compile(r\"\\\\+\")"
   ]
  },
  {
   "cell_type": "code",
   "execution_count": 174,
   "metadata": {
    "id": "ZGVvQhZz4tGs"
   },
   "outputs": [],
   "source": [
    "#define a function to tokenize a sentence into words - you can define words you want to remove as well as new words for tokenization\n",
    "\n",
    "stopwords = list(pythainlp.corpus.thai_stopwords())\n",
    "removed_words = ['u', 'b', 'n', 'nn', 'nn-', '\\n', 'ร้าน', 'รีวิว', 'วัง', 'ทาน', 'รส', 'สาขา', 'ผม', 'ซื้อ', 'กิน', 'า', 'อร่อย', 'นะคะ', 'สำหรับ', 'หา', 'เด', 'ห', 'หาย', 'ซอย', '']\n",
    "screening_words = stopwords + removed_words\n",
    "\n",
    "new_words = {\"สตารบัก\", \"ชานมไข่มุก\", \"ยำแซ่บ\", \"โรบัสต้า\", \"ชาไข่มุก\", \"อเมซอน\", \"แวะจิบ\", \"หัวหิน\", \"ชานมไต้หวัน\", \"ไข่เป็ด\", \"คอกาแฟ\", 'รสชาติดี', 'ท้องม้วนสด'}\n",
    "\n",
    "words = new_words.union(thai_words())\n",
    "\n",
    "custom_dictionary_trie = Trie(words)\n",
    "\n",
    "def tokenize_to_list(sentence):\n",
    "  merged = []\n",
    "  words = pythainlp.word_tokenize(str(sentence), engine='longest', custom_dict=custom_dictionary_trie)\n",
    "  for word in words:\n",
    "    if word not in screening_words:\n",
    "      merged.append(word)\n",
    "  return merged"
   ]
  },
  {
   "cell_type": "code",
   "execution_count": 175,
   "metadata": {
    "id": "MnN1ekEoL9ug"
   },
   "outputs": [],
   "source": [
    "#clean and tokenize sentences. count the occurences of each word\n",
    "\n",
    "df_kmeans['texts'] = df_kmeans['texts'].apply(lambda x: emoji_pattern.sub(r'', x))\n",
    "df_kmeans['texts'] = df_kmeans['texts'].apply(lambda x: specialchar_pattern.sub(r'', x))\n",
    "df_kmeans['texts'] = df_kmeans['texts'].apply(lambda x: number_pattern.sub(r'', x))\n",
    "df_kmeans['texts'] = df_kmeans['texts'].apply(lambda x: space_pattern.sub(r'', x))\n",
    "df_kmeans['texts'] = df_kmeans['texts'].apply(lambda x: dot_pattern.sub(r'', x))\n",
    "df_kmeans['texts'] = df_kmeans['texts'].apply(lambda x: backslash_pattern.sub(r'', x))\n",
    "df_kmeans['texts_tokenized'] = df_kmeans['texts'].apply(lambda x: tokenize_to_list(x))\n",
    "df_kmeans['texts_count'] = df_kmeans['texts_tokenized'].apply(lambda x: collections.Counter(x).most_common())"
   ]
  },
  {
   "cell_type": "code",
   "execution_count": 176,
   "metadata": {
    "colab": {
     "base_uri": "https://localhost:8080/",
     "height": 264
    },
    "id": "G0jG1yO889B2",
    "outputId": "0440a679-c832-4446-b1bc-64992cabeb13"
   },
   "outputs": [
    {
     "data": {
      "text/html": [
       "<div>\n",
       "<style scoped>\n",
       "    .dataframe tbody tr th:only-of-type {\n",
       "        vertical-align: middle;\n",
       "    }\n",
       "\n",
       "    .dataframe tbody tr th {\n",
       "        vertical-align: top;\n",
       "    }\n",
       "\n",
       "    .dataframe thead th {\n",
       "        text-align: right;\n",
       "    }\n",
       "</style>\n",
       "<table border=\"1\" class=\"dataframe\">\n",
       "  <thead>\n",
       "    <tr style=\"text-align: right;\">\n",
       "      <th></th>\n",
       "      <th>KMeans ID</th>\n",
       "      <th>texts</th>\n",
       "      <th>texts_tokenized</th>\n",
       "      <th>texts_count</th>\n",
       "    </tr>\n",
       "  </thead>\n",
       "  <tbody>\n",
       "    <tr>\n",
       "      <th>0</th>\n",
       "      <td>0</td>\n",
       "      <td>กวงทะเลเผาอาหารทะเลเค้าสดจริงๆเนื้อปูหวานไม่คส...</td>\n",
       "      <td>[ก, วง, ทะเล, เผา, อาหารทะเล, เค้า, สด, เนื้อ,...</td>\n",
       "      <td>[(ร้านอาหาร, 6), (กก, 6), (อาหาร, 5), (ราคา, 4...</td>\n",
       "    </tr>\n",
       "    <tr>\n",
       "      <th>1</th>\n",
       "      <td>1</td>\n",
       "      <td>เป็นคนที่ชอบทานMacchiatoเป็นประจำมีวันนึงเดArt...</td>\n",
       "      <td>[คน, ชอบ, macchiato, เป็นประจำ, นึง, artofcoff...</td>\n",
       "      <td>[(ร้านกาแฟ, 12), (กาแฟ, 11), (คน, 4), (ชอบ, 3)...</td>\n",
       "    </tr>\n",
       "    <tr>\n",
       "      <th>2</th>\n",
       "      <td>2</td>\n",
       "      <td>เคยทานทองม้วนสดมาหลายร้านแล้วnถ้าจะทานแบบอร่เช...</td>\n",
       "      <td>[ทองม้วน, สด, อร่, เช้าๆ, บ่ายๆ, เย็นๆ, อาหารว...</td>\n",
       "      <td>[(คาเฟ่, 3), (ชอบ, 3), (พาย, 3), (จริณ, 2), (เ...</td>\n",
       "    </tr>\n",
       "    <tr>\n",
       "      <th>3</th>\n",
       "      <td>3</td>\n",
       "      <td>เคยเป็นไหมกันไหมคะหลังอาหารมื้อใหญ่ต่อให้อิ่ระ...</td>\n",
       "      <td>[ไหม, ไหม, หลังอาหาร, มื้อ, อิ่, มุ่งหน้า, ชัย...</td>\n",
       "      <td>[(ชานมไข่มุก, 9), (ชา, 5), (เครื่องดื่ม, 4), (...</td>\n",
       "    </tr>\n",
       "    <tr>\n",
       "      <th>4</th>\n",
       "      <td>4</td>\n",
       "      <td>ชอบมาทานร้านนี้ถ้าอยากกินอาหารเวียดนามใกล้บ้าน...</td>\n",
       "      <td>[ชอบ, อาหาร, เวียดนาม, บ้าน, ส้มตำ, เจ๊, พิม, ...</td>\n",
       "      <td>[(ร้านอาหาร, 6), (บ้าน, 3), (ส้มตำ, 3), (ถนน, ...</td>\n",
       "    </tr>\n",
       "    <tr>\n",
       "      <th>5</th>\n",
       "      <td>5</td>\n",
       "      <td>โลตัสพัฒนาการมีร้านชีทเค้กน่าหม่ำอยู่ร้านนึงค่...</td>\n",
       "      <td>[โลตัส, พัฒนาการ, ชี, ท, เค้ก, หม่ำ, นึง, ค่, ...</td>\n",
       "      <td>[(ร้านกาแฟ, 10), (กาแฟ, 6), (เค้ก, 3), (ชั้น, ...</td>\n",
       "    </tr>\n",
       "    <tr>\n",
       "      <th>6</th>\n",
       "      <td>6</td>\n",
       "      <td>วันนี้มีโอกาสตื่นเช้าครับเลยถึงโอกาสออกมาหาอะไ...</td>\n",
       "      <td>[มีโอกาส, ตื่น, เช้า, โอกาส, ออกมา, อะ, ไเป็น,...</td>\n",
       "      <td>[(ร้านอาหาร, 4), (ร้านกาแฟ, 4), (ครั้งแรก, 3),...</td>\n",
       "    </tr>\n",
       "  </tbody>\n",
       "</table>\n",
       "</div>"
      ],
      "text/plain": [
       "  KMeans ID  ...                                        texts_count\n",
       "0         0  ...  [(ร้านอาหาร, 6), (กก, 6), (อาหาร, 5), (ราคา, 4...\n",
       "1         1  ...  [(ร้านกาแฟ, 12), (กาแฟ, 11), (คน, 4), (ชอบ, 3)...\n",
       "2         2  ...  [(คาเฟ่, 3), (ชอบ, 3), (พาย, 3), (จริณ, 2), (เ...\n",
       "3         3  ...  [(ชานมไข่มุก, 9), (ชา, 5), (เครื่องดื่ม, 4), (...\n",
       "4         4  ...  [(ร้านอาหาร, 6), (บ้าน, 3), (ส้มตำ, 3), (ถนน, ...\n",
       "5         5  ...  [(ร้านกาแฟ, 10), (กาแฟ, 6), (เค้ก, 3), (ชั้น, ...\n",
       "6         6  ...  [(ร้านอาหาร, 4), (ร้านกาแฟ, 4), (ครั้งแรก, 3),...\n",
       "\n",
       "[7 rows x 4 columns]"
      ]
     },
     "execution_count": 176,
     "metadata": {},
     "output_type": "execute_result"
    }
   ],
   "source": [
    "#results of tokenization\n",
    "\n",
    "df_kmeans"
   ]
  },
  {
   "cell_type": "code",
   "execution_count": 177,
   "metadata": {
    "colab": {
     "base_uri": "https://localhost:8080/"
    },
    "id": "n0LZ5H8_Dqvn",
    "outputId": "ec10163c-125e-459b-bca4-2cf68685f812"
   },
   "outputs": [
    {
     "name": "stdout",
     "output_type": "stream",
     "text": [
      "Cluster ID : 0\n",
      "\n",
      "Most common words include : [('ร้านอาหาร', 6), ('กก', 6), ('อาหาร', 5), ('ราคา', 4), ('ก', 3), ('สวัสดี', 3), ('นอ', 3), ('รา', 3), ('รอบ', 3), ('หาร', 3), ('รสชาติ', 3), ('กาแฟ', 3), ('วง', 2), ('เพื่อนๆ', 2), ('หัวหิน', 2), ('ไร้', 2), ('บ้าน', 2), ('ไทย', 2), ('แพง', 2), ('อาศัย', 2)]\n",
      "\n",
      "Cluster ID : 1\n",
      "\n",
      "Most common words include : [('ร้านกาแฟ', 12), ('กาแฟ', 11), ('คน', 4), ('ชอบ', 3), ('นึง', 3), (':', 3), ('นั่ง', 3), ('ร้า', 3), ('สวัสดี', 3), ('เจอ', 3), ('อย', 3), ('ดี', 3), ('รสชาติ', 2), ('เดือน', 2), ('เหมือน', 2), ('มาจาก', 2), ('ส่วนตัว', 2), ('รอ', 2), ('พัก', 2), ('เดินผ่าน', 2)]\n",
      "\n",
      "Cluster ID : 2\n",
      "\n",
      "Most common words include : [('คาเฟ่', 3), ('ชอบ', 3), ('พาย', 3), ('จริณ', 2), ('เบเกอรี่', 2), ('พัน', 2), ('น้ำ', 2), ('ปั่น', 2), ('แตงโม', 2), ('ทองม้วน', 1), ('สด', 1), ('อร่', 1), ('เช้าๆ', 1), ('บ่ายๆ', 1), ('เย็นๆ', 1), ('อาหารว่าง', 1), ('คนเรา', 1), ('หยิบ', 1), ('จัา', 1), ('นพ', 1)]\n",
      "\n",
      "Cluster ID : 3\n",
      "\n",
      "Most common words include : [('ชานมไข่มุก', 9), ('ชา', 5), ('เครื่องดื่ม', 4), ('ชาไข่มุก', 4), ('นม', 4), ('ลอง', 3), ('ไต้หวัน', 3), ('ไหม', 2), ('แวะ', 2), ('เติม', 2), ('ชาเขียว', 2), ('นิว', 2), ('คุง', 2), ('เจอ', 2), ('ขาย', 2), ('ochaya', 2), ('มากๆ', 2), ('aprilstore', 2), ('ตั้งอยู่', 2), ('คน', 2)]\n",
      "\n",
      "Cluster ID : 4\n",
      "\n",
      "Most common words include : [('ร้านอาหาร', 6), ('บ้าน', 3), ('ส้มตำ', 3), ('ถนน', 3), ('เก่าแก่', 3), ('เมนู', 3), ('เป็ด', 3), ('ดี', 3), ('กก', 3), ('ชอบ', 2), ('ชื่อดัง', 2), ('คน', 2), ('ชล', 2), ('ไข่', 2), ('เมือง', 2), ('พัทยา', 2), ('ทะเล', 2), ('อย่า', 2), ('ชื่อ', 2), ('แนะนำ', 2)]\n",
      "\n",
      "Cluster ID : 5\n",
      "\n",
      "Most common words include : [('ร้านกาแฟ', 10), ('กาแฟ', 6), ('เค้ก', 3), ('ชั้น', 3), ('บรรยากาศ', 3), ('เบเกอรี่', 2), ('ส', 2), ('กา', 2), ('น่ารัก', 2), ('แนวๆ', 2), ('ห้าง', 2), ('รถ', 2), ('น', 2), ('อ้อ', 2), ('ชอบ', 2), ('ติด', 2), ('ดี', 2), ('คลาสสิค', 2), ('เด่น', 2), ('ตกแต่ง', 2)]\n",
      "\n",
      "Cluster ID : 6\n",
      "\n",
      "Most common words include : [('ร้านอาหาร', 4), ('ร้านกาแฟ', 4), ('ครั้งแรก', 3), ('ชอบ', 3), ('แวะ', 3), ('กาแฟ', 3), ('มีโอกาส', 2), ('เช้า', 2), ('โอกาส', 2), ('สะดุดตา', 2), ('เครื่องดื่ม', 2), ('รู้จัก', 2), ('อาหาร', 2), ('เดิน', 2), ('เก', 2), ('เลือก', 2), ('ลอง', 2), ('พูดถึง', 2), ('เวลา', 2), ('คน', 2)]\n",
      "\n"
     ]
    }
   ],
   "source": [
    "#show top keywords of each cluster\n",
    "\n",
    "top_N_words = 20\n",
    "\n",
    "for i in range(0, len(df_kmeans)):\n",
    "  print(f\"Cluster ID : {i}\\n\")\n",
    "  print(f\"Most common words include : {list(df_kmeans['texts_count'][i])[:top_N_words]}\\n\")\n",
    "\n",
    "#tune a model by remove unwanted characters and words and add more words to a custom dictionary"
   ]
  },
  {
   "cell_type": "markdown",
   "metadata": {
    "id": "X4x2o2VEQWA6"
   },
   "source": [
    "# result discussion"
   ]
  },
  {
   "cell_type": "markdown",
   "metadata": {
    "id": "bcQHJ1bSUpT0"
   },
   "source": [
    "Cluster 0 : ร้านอาหาร แถวหัวหิน ราคาแพง\n",
    "\n",
    "Cluster 1 : ร้านกาแฟนั่งชิล\n",
    "\n",
    "Cluster 2 : คาเฟ่ ขนม ของหวาน\n",
    "\n",
    "Cluster 3 : คนรักชานม\n",
    "\n",
    "Cluster 4 : ร้านอาหาร เก่าแก่ พัทยา\n",
    "\n",
    "Cluster 5 : ร้านกาแฟ และเบอเกอรี่ บรรยากาศดี\n",
    "\n",
    "Cluster 6 : ร้านอาหาร และ ร้านกาแฟ แนะนำให้ลอง\n"
   ]
  }
 ],
 "metadata": {
  "colab": {
   "collapsed_sections": [],
   "name": "Clustering Documents - Universal Sentence Encoder with Clustering.ipynb",
   "provenance": []
  },
  "kernelspec": {
   "display_name": "Python 3",
   "language": "python",
   "name": "python3"
  },
  "language_info": {
   "codemirror_mode": {
    "name": "ipython",
    "version": 3
   },
   "file_extension": ".py",
   "mimetype": "text/x-python",
   "name": "python",
   "nbconvert_exporter": "python",
   "pygments_lexer": "ipython3",
   "version": "3.7.4"
  }
 },
 "nbformat": 4,
 "nbformat_minor": 1
}
